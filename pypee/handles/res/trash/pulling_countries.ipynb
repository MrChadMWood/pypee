{
 "cells": [
  {
   "cell_type": "code",
   "execution_count": null,
   "id": "0d87c618-b03d-45fe-bee8-f07da2e4fc68",
   "metadata": {},
   "outputs": [],
   "source": [
    "import csv\n",
    "import requests\n",
    "\n",
    "CSV_URL = 'https://developers.google.com/static/adwords/api/docs/appendix/geo/geotargets-2022-09-14.csv'\n",
    "\n",
    "\n",
    "with requests.Session() as s:\n",
    "    download = s.get(CSV_URL)\n",
    "\n",
    "    decoded_content = download.content.decode('utf-8')\n",
    "\n",
    "    cr = csv.reader(decoded_content.splitlines(), delimiter=',')\n",
    "    data = list(cr)\n",
    "    \n",
    "df = pd.DataFrame(my_list[1:], columns=my_list[0])\n",
    "df.loc[df['Target Type']=='Country']\n",
    "\n",
    "countries = (\n",
    "    df.loc[df['Target Type'] == 'Country']\n",
    "    [['Criteria ID','Canonical Name']]\n",
    "    .rename(columns={'Criteria ID':'criteria_id','Canonical Name':'canonical_name'})\n",
    "    .set_index('criteria_id')\n",
    "    .to_dict()\n",
    ")"
   ]
  }
 ],
 "metadata": {
  "kernelspec": {
   "display_name": "Python 3 (ipykernel)",
   "language": "python",
   "name": "python3"
  },
  "language_info": {
   "codemirror_mode": {
    "name": "ipython",
    "version": 3
   },
   "file_extension": ".py",
   "mimetype": "text/x-python",
   "name": "python",
   "nbconvert_exporter": "python",
   "pygments_lexer": "ipython3",
   "version": "3.9.10"
  }
 },
 "nbformat": 4,
 "nbformat_minor": 5
}
